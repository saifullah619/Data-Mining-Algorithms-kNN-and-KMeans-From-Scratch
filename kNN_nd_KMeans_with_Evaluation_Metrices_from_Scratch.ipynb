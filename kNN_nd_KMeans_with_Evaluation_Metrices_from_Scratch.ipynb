{
  "nbformat": 4,
  "nbformat_minor": 0,
  "metadata": {
    "colab": {
      "name": "i180599_AI_assignment_3.ipynb",
      "provenance": [],
      "collapsed_sections": []
    },
    "kernelspec": {
      "display_name": "Python 3",
      "name": "python3"
    },
    "language_info": {
      "name": "python"
    }
  },
  "cells": [
    {
      "cell_type": "markdown",
      "metadata": {
        "id": "lnZNKcwhOJ8V"
      },
      "source": [
        "# KNN"
      ]
    },
    {
      "cell_type": "code",
      "metadata": {
        "id": "tpQomI193ekG"
      },
      "source": [
        "import pandas as pd\n",
        "import matplotlib.pyplot as plt\n",
        "import random\n",
        "import numpy as np\n",
        "\n",
        "%matplotlib inline\n",
        "\n",
        "data = pd.read_csv(\"balance-scale.data\",sep = ',')\n",
        "data.columns = ['Class','Left-Weight','Left-Distance','Right_Weight','Right-Distance']"
      ],
      "execution_count": 441,
      "outputs": []
    },
    {
      "cell_type": "code",
      "metadata": {
        "colab": {
          "base_uri": "https://localhost:8080/"
        },
        "id": "snYbvmjy4kpF",
        "outputId": "f907023b-d8fb-4baf-a36b-44b4302ab41c"
      },
      "source": [
        "print(data)\n",
        "data[\"Class\"].replace({\"R\": 3 , \"L\": 1 , \"B\":2 }, inplace=True)"
      ],
      "execution_count": 442,
      "outputs": [
        {
          "output_type": "stream",
          "text": [
            "    Class  Left-Weight  Left-Distance  Right_Weight  Right-Distance\n",
            "0       R            1              1             1               2\n",
            "1       R            1              1             1               3\n",
            "2       R            1              1             1               4\n",
            "3       R            1              1             1               5\n",
            "4       R            1              1             2               1\n",
            "..    ...          ...            ...           ...             ...\n",
            "619     L            5              5             5               1\n",
            "620     L            5              5             5               2\n",
            "621     L            5              5             5               3\n",
            "622     L            5              5             5               4\n",
            "623     B            5              5             5               5\n",
            "\n",
            "[624 rows x 5 columns]\n"
          ],
          "name": "stdout"
        }
      ]
    },
    {
      "cell_type": "code",
      "metadata": {
        "colab": {
          "base_uri": "https://localhost:8080/"
        },
        "id": "OKk1kSQ_4mZD",
        "outputId": "9cb7de35-f87a-473b-a261-0409eb9747c3"
      },
      "source": [
        "print(data)\n",
        "msk = np.random.rand(len(data)) < 0.8\n",
        "train = data[msk]\n",
        "test = data[~msk]"
      ],
      "execution_count": 443,
      "outputs": [
        {
          "output_type": "stream",
          "text": [
            "     Class  Left-Weight  Left-Distance  Right_Weight  Right-Distance\n",
            "0        3            1              1             1               2\n",
            "1        3            1              1             1               3\n",
            "2        3            1              1             1               4\n",
            "3        3            1              1             1               5\n",
            "4        3            1              1             2               1\n",
            "..     ...          ...            ...           ...             ...\n",
            "619      1            5              5             5               1\n",
            "620      1            5              5             5               2\n",
            "621      1            5              5             5               3\n",
            "622      1            5              5             5               4\n",
            "623      2            5              5             5               5\n",
            "\n",
            "[624 rows x 5 columns]\n"
          ],
          "name": "stdout"
        }
      ]
    },
    {
      "cell_type": "code",
      "metadata": {
        "colab": {
          "base_uri": "https://localhost:8080/",
          "height": 424
        },
        "id": "gw_C3oGo692D",
        "outputId": "8be3fdf7-0ad1-4116-8e90-2ceb9cf75db8"
      },
      "source": [
        "print(len(train))\n",
        "train"
      ],
      "execution_count": 444,
      "outputs": [
        {
          "output_type": "stream",
          "text": [
            "502\n"
          ],
          "name": "stdout"
        },
        {
          "output_type": "execute_result",
          "data": {
            "text/html": [
              "<div>\n",
              "<style scoped>\n",
              "    .dataframe tbody tr th:only-of-type {\n",
              "        vertical-align: middle;\n",
              "    }\n",
              "\n",
              "    .dataframe tbody tr th {\n",
              "        vertical-align: top;\n",
              "    }\n",
              "\n",
              "    .dataframe thead th {\n",
              "        text-align: right;\n",
              "    }\n",
              "</style>\n",
              "<table border=\"1\" class=\"dataframe\">\n",
              "  <thead>\n",
              "    <tr style=\"text-align: right;\">\n",
              "      <th></th>\n",
              "      <th>Class</th>\n",
              "      <th>Left-Weight</th>\n",
              "      <th>Left-Distance</th>\n",
              "      <th>Right_Weight</th>\n",
              "      <th>Right-Distance</th>\n",
              "    </tr>\n",
              "  </thead>\n",
              "  <tbody>\n",
              "    <tr>\n",
              "      <th>1</th>\n",
              "      <td>3</td>\n",
              "      <td>1</td>\n",
              "      <td>1</td>\n",
              "      <td>1</td>\n",
              "      <td>3</td>\n",
              "    </tr>\n",
              "    <tr>\n",
              "      <th>2</th>\n",
              "      <td>3</td>\n",
              "      <td>1</td>\n",
              "      <td>1</td>\n",
              "      <td>1</td>\n",
              "      <td>4</td>\n",
              "    </tr>\n",
              "    <tr>\n",
              "      <th>3</th>\n",
              "      <td>3</td>\n",
              "      <td>1</td>\n",
              "      <td>1</td>\n",
              "      <td>1</td>\n",
              "      <td>5</td>\n",
              "    </tr>\n",
              "    <tr>\n",
              "      <th>4</th>\n",
              "      <td>3</td>\n",
              "      <td>1</td>\n",
              "      <td>1</td>\n",
              "      <td>2</td>\n",
              "      <td>1</td>\n",
              "    </tr>\n",
              "    <tr>\n",
              "      <th>5</th>\n",
              "      <td>3</td>\n",
              "      <td>1</td>\n",
              "      <td>1</td>\n",
              "      <td>2</td>\n",
              "      <td>2</td>\n",
              "    </tr>\n",
              "    <tr>\n",
              "      <th>...</th>\n",
              "      <td>...</td>\n",
              "      <td>...</td>\n",
              "      <td>...</td>\n",
              "      <td>...</td>\n",
              "      <td>...</td>\n",
              "    </tr>\n",
              "    <tr>\n",
              "      <th>619</th>\n",
              "      <td>1</td>\n",
              "      <td>5</td>\n",
              "      <td>5</td>\n",
              "      <td>5</td>\n",
              "      <td>1</td>\n",
              "    </tr>\n",
              "    <tr>\n",
              "      <th>620</th>\n",
              "      <td>1</td>\n",
              "      <td>5</td>\n",
              "      <td>5</td>\n",
              "      <td>5</td>\n",
              "      <td>2</td>\n",
              "    </tr>\n",
              "    <tr>\n",
              "      <th>621</th>\n",
              "      <td>1</td>\n",
              "      <td>5</td>\n",
              "      <td>5</td>\n",
              "      <td>5</td>\n",
              "      <td>3</td>\n",
              "    </tr>\n",
              "    <tr>\n",
              "      <th>622</th>\n",
              "      <td>1</td>\n",
              "      <td>5</td>\n",
              "      <td>5</td>\n",
              "      <td>5</td>\n",
              "      <td>4</td>\n",
              "    </tr>\n",
              "    <tr>\n",
              "      <th>623</th>\n",
              "      <td>2</td>\n",
              "      <td>5</td>\n",
              "      <td>5</td>\n",
              "      <td>5</td>\n",
              "      <td>5</td>\n",
              "    </tr>\n",
              "  </tbody>\n",
              "</table>\n",
              "<p>502 rows × 5 columns</p>\n",
              "</div>"
            ],
            "text/plain": [
              "     Class  Left-Weight  Left-Distance  Right_Weight  Right-Distance\n",
              "1        3            1              1             1               3\n",
              "2        3            1              1             1               4\n",
              "3        3            1              1             1               5\n",
              "4        3            1              1             2               1\n",
              "5        3            1              1             2               2\n",
              "..     ...          ...            ...           ...             ...\n",
              "619      1            5              5             5               1\n",
              "620      1            5              5             5               2\n",
              "621      1            5              5             5               3\n",
              "622      1            5              5             5               4\n",
              "623      2            5              5             5               5\n",
              "\n",
              "[502 rows x 5 columns]"
            ]
          },
          "metadata": {
            "tags": []
          },
          "execution_count": 444
        }
      ]
    },
    {
      "cell_type": "code",
      "metadata": {
        "colab": {
          "base_uri": "https://localhost:8080/",
          "height": 406
        },
        "id": "wqyAG4Lm80GR",
        "outputId": "461dcd91-3d01-431b-f0b7-b69a79a9ba3a"
      },
      "source": [
        "len(test)\n",
        "test"
      ],
      "execution_count": 445,
      "outputs": [
        {
          "output_type": "execute_result",
          "data": {
            "text/html": [
              "<div>\n",
              "<style scoped>\n",
              "    .dataframe tbody tr th:only-of-type {\n",
              "        vertical-align: middle;\n",
              "    }\n",
              "\n",
              "    .dataframe tbody tr th {\n",
              "        vertical-align: top;\n",
              "    }\n",
              "\n",
              "    .dataframe thead th {\n",
              "        text-align: right;\n",
              "    }\n",
              "</style>\n",
              "<table border=\"1\" class=\"dataframe\">\n",
              "  <thead>\n",
              "    <tr style=\"text-align: right;\">\n",
              "      <th></th>\n",
              "      <th>Class</th>\n",
              "      <th>Left-Weight</th>\n",
              "      <th>Left-Distance</th>\n",
              "      <th>Right_Weight</th>\n",
              "      <th>Right-Distance</th>\n",
              "    </tr>\n",
              "  </thead>\n",
              "  <tbody>\n",
              "    <tr>\n",
              "      <th>0</th>\n",
              "      <td>3</td>\n",
              "      <td>1</td>\n",
              "      <td>1</td>\n",
              "      <td>1</td>\n",
              "      <td>2</td>\n",
              "    </tr>\n",
              "    <tr>\n",
              "      <th>9</th>\n",
              "      <td>3</td>\n",
              "      <td>1</td>\n",
              "      <td>1</td>\n",
              "      <td>3</td>\n",
              "      <td>1</td>\n",
              "    </tr>\n",
              "    <tr>\n",
              "      <th>21</th>\n",
              "      <td>3</td>\n",
              "      <td>1</td>\n",
              "      <td>1</td>\n",
              "      <td>5</td>\n",
              "      <td>3</td>\n",
              "    </tr>\n",
              "    <tr>\n",
              "      <th>28</th>\n",
              "      <td>3</td>\n",
              "      <td>1</td>\n",
              "      <td>2</td>\n",
              "      <td>1</td>\n",
              "      <td>5</td>\n",
              "    </tr>\n",
              "    <tr>\n",
              "      <th>29</th>\n",
              "      <td>2</td>\n",
              "      <td>1</td>\n",
              "      <td>2</td>\n",
              "      <td>2</td>\n",
              "      <td>1</td>\n",
              "    </tr>\n",
              "    <tr>\n",
              "      <th>...</th>\n",
              "      <td>...</td>\n",
              "      <td>...</td>\n",
              "      <td>...</td>\n",
              "      <td>...</td>\n",
              "      <td>...</td>\n",
              "    </tr>\n",
              "    <tr>\n",
              "      <th>605</th>\n",
              "      <td>1</td>\n",
              "      <td>5</td>\n",
              "      <td>5</td>\n",
              "      <td>2</td>\n",
              "      <td>2</td>\n",
              "    </tr>\n",
              "    <tr>\n",
              "      <th>611</th>\n",
              "      <td>1</td>\n",
              "      <td>5</td>\n",
              "      <td>5</td>\n",
              "      <td>3</td>\n",
              "      <td>3</td>\n",
              "    </tr>\n",
              "    <tr>\n",
              "      <th>615</th>\n",
              "      <td>1</td>\n",
              "      <td>5</td>\n",
              "      <td>5</td>\n",
              "      <td>4</td>\n",
              "      <td>2</td>\n",
              "    </tr>\n",
              "    <tr>\n",
              "      <th>616</th>\n",
              "      <td>1</td>\n",
              "      <td>5</td>\n",
              "      <td>5</td>\n",
              "      <td>4</td>\n",
              "      <td>3</td>\n",
              "    </tr>\n",
              "    <tr>\n",
              "      <th>617</th>\n",
              "      <td>1</td>\n",
              "      <td>5</td>\n",
              "      <td>5</td>\n",
              "      <td>4</td>\n",
              "      <td>4</td>\n",
              "    </tr>\n",
              "  </tbody>\n",
              "</table>\n",
              "<p>122 rows × 5 columns</p>\n",
              "</div>"
            ],
            "text/plain": [
              "     Class  Left-Weight  Left-Distance  Right_Weight  Right-Distance\n",
              "0        3            1              1             1               2\n",
              "9        3            1              1             3               1\n",
              "21       3            1              1             5               3\n",
              "28       3            1              2             1               5\n",
              "29       2            1              2             2               1\n",
              "..     ...          ...            ...           ...             ...\n",
              "605      1            5              5             2               2\n",
              "611      1            5              5             3               3\n",
              "615      1            5              5             4               2\n",
              "616      1            5              5             4               3\n",
              "617      1            5              5             4               4\n",
              "\n",
              "[122 rows x 5 columns]"
            ]
          },
          "metadata": {
            "tags": []
          },
          "execution_count": 445
        }
      ]
    },
    {
      "cell_type": "code",
      "metadata": {
        "colab": {
          "base_uri": "https://localhost:8080/"
        },
        "id": "MtXmIrg6DwET",
        "outputId": "fce69764-c37e-46ae-8892-254d116b9a08"
      },
      "source": [
        "print(data.columns[1:])"
      ],
      "execution_count": 446,
      "outputs": [
        {
          "output_type": "stream",
          "text": [
            "Index(['Left-Weight', 'Left-Distance', 'Right_Weight', 'Right-Distance'], dtype='object')\n"
          ],
          "name": "stdout"
        }
      ]
    },
    {
      "cell_type": "code",
      "metadata": {
        "colab": {
          "base_uri": "https://localhost:8080/"
        },
        "id": "Ru_H4aWW82gO",
        "outputId": "393e0ff2-9922-4291-ac28-323be4a00995"
      },
      "source": [
        "#train_Y = \n",
        "alldata = data.to_numpy()\n",
        "train = data[msk].to_numpy()\n",
        "test = data[~msk].to_numpy()\n",
        "print(len(train))\n",
        "print(len(test))"
      ],
      "execution_count": 492,
      "outputs": [
        {
          "output_type": "stream",
          "text": [
            "502\n",
            "122\n"
          ],
          "name": "stdout"
        }
      ]
    },
    {
      "cell_type": "code",
      "metadata": {
        "colab": {
          "base_uri": "https://localhost:8080/"
        },
        "id": "HLSdbUeREK5V",
        "outputId": "b7c3766f-5f02-4421-9242-bd879a478ce9"
      },
      "source": [
        "train_Y = train[:,0]\n",
        "test_Y = test[:,0]\n",
        "print(train_Y.shape)\n",
        "print(test_Y.shape)"
      ],
      "execution_count": 448,
      "outputs": [
        {
          "output_type": "stream",
          "text": [
            "(502,)\n",
            "(122,)\n"
          ],
          "name": "stdout"
        }
      ]
    },
    {
      "cell_type": "code",
      "metadata": {
        "colab": {
          "base_uri": "https://localhost:8080/"
        },
        "id": "RfYolTmPE3yD",
        "outputId": "62078d93-28fe-4947-8f9c-9fb2a86aefdf"
      },
      "source": [
        "train_X = train[:,1:]\n",
        "test_X = test[:,1:]\n",
        "print(train_X)"
      ],
      "execution_count": 449,
      "outputs": [
        {
          "output_type": "stream",
          "text": [
            "[[1 1 1 3]\n",
            " [1 1 1 4]\n",
            " [1 1 1 5]\n",
            " ...\n",
            " [5 5 5 3]\n",
            " [5 5 5 4]\n",
            " [5 5 5 5]]\n"
          ],
          "name": "stdout"
        }
      ]
    },
    {
      "cell_type": "code",
      "metadata": {
        "colab": {
          "base_uri": "https://localhost:8080/"
        },
        "id": "JEfZPs2Njj0u",
        "outputId": "b5fc877f-a09e-4991-81c2-d945182511f6"
      },
      "source": [
        "print(train_X.shape)\n",
        "print(test_X.shape)"
      ],
      "execution_count": 450,
      "outputs": [
        {
          "output_type": "stream",
          "text": [
            "(502, 4)\n",
            "(122, 4)\n"
          ],
          "name": "stdout"
        }
      ]
    },
    {
      "cell_type": "code",
      "metadata": {
        "id": "YObWB_kMkKyH"
      },
      "source": [
        "#classifier  = KNearestNeighbor()\n",
        "#classifier.train(train_X, train_Y)\n",
        "#y_test_pred = classifier.predict(test_X,1)"
      ],
      "execution_count": 451,
      "outputs": []
    },
    {
      "cell_type": "code",
      "metadata": {
        "id": "o8WUZpyxbB9K"
      },
      "source": [
        "from scipy.stats import mode"
      ],
      "execution_count": null,
      "outputs": []
    },
    {
      "cell_type": "code",
      "metadata": {
        "id": "LADfBsAmL-l4"
      },
      "source": [
        "#print(y_test_pred)"
      ],
      "execution_count": 452,
      "outputs": []
    },
    {
      "cell_type": "code",
      "metadata": {
        "id": "tJBBHrDJv75s"
      },
      "source": [
        "#test_Y"
      ],
      "execution_count": 453,
      "outputs": []
    },
    {
      "cell_type": "code",
      "metadata": {
        "id": "rLaZRsWR3KGu"
      },
      "source": [
        "#Importing the required modules\n",
        "import numpy as np\n",
        "\n",
        " \n",
        "#Euclidean Distance\n",
        "def eucledian(p1,p2):\n",
        "    dist = np.sqrt(np.sum((p1-p2)**2))\n",
        "    return dist\n",
        " \n",
        "#Function to calculate KNN\n",
        "def predict(x_train, y , x_test, k ):\n",
        "    class_labels = []\n",
        "     \n",
        "    #Loop through the Datapoints to be classified\n",
        "    for i in x_test: \n",
        "         \n",
        "        #Array to store distances\n",
        "        pdists = []\n",
        "         \n",
        "        #Loop through each training Data\n",
        "        for j in range(len(x_train)): \n",
        "            dists = eucledian(np.array(x_train[j,:]) , i) \n",
        "            #Calculating the distance\n",
        "            pdists.append(dists) \n",
        "        pdists = np.array(pdists) \n",
        "         \n",
        "        #Sorting the array while preserving the index\n",
        "        #Keeping the first K datapoints\n",
        "        dist = np.argsort(pdists)[:k] \n",
        "         \n",
        "        #Labels of the K datapoints from above\n",
        "        labels = y[dist]\n",
        "         \n",
        "        #Majority voting\n",
        "        lab = mode(labels) \n",
        "        lab = lab.mode[0]\n",
        "        class_labels.append(lab)\n",
        " \n",
        "    return class_labels"
      ],
      "execution_count": 454,
      "outputs": []
    },
    {
      "cell_type": "code",
      "metadata": {
        "id": "AHTNoXGE4aE9"
      },
      "source": [
        ""
      ],
      "execution_count": 454,
      "outputs": []
    },
    {
      "cell_type": "code",
      "metadata": {
        "colab": {
          "base_uri": "https://localhost:8080/"
        },
        "id": "pVIqlR8x4zGM",
        "outputId": "af915bbb-e7fc-44c2-f555-f876ea17ce99"
      },
      "source": [
        "from sklearn.metrics import accuracy_score \n",
        "\n",
        "\n",
        "y_pred = predict(train_X,train_Y,test_X, 7)\n",
        " \n",
        "#Checking the accuracy\n",
        "print(\"Accuracy of my KNN by sklearn\", accuracy_score(test_Y, y_pred))\n",
        "\n",
        "from sklearn.neighbors import KNeighborsClassifier\n",
        "\n",
        "clf = KNeighborsClassifier(n_neighbors=7, p=2)\n",
        "clf.fit(train_X, train_Y)\n",
        "y_pred_test = clf.predict(test_X)\n",
        "\n",
        "print(f\"Sklearn KNN Accuracy: {accuracy_score(test_Y, y_pred_test)}\")"
      ],
      "execution_count": 455,
      "outputs": [
        {
          "output_type": "stream",
          "text": [
            "Accuracy of my KNN by sklearn 0.8852459016393442\n",
            "Sklearn KNN Accuracy: 0.9016393442622951\n"
          ],
          "name": "stdout"
        }
      ]
    },
    {
      "cell_type": "code",
      "metadata": {
        "colab": {
          "base_uri": "https://localhost:8080/"
        },
        "id": "BsWoudDA5pZa",
        "outputId": "9a5cbb60-ca41-46ba-dcae-71ce59f20bc4"
      },
      "source": [
        "\n",
        "\n",
        "accuracies = []\n",
        "\n",
        "for k in range(1,20):\n",
        "    y_hat_test = predict(train_X, train_Y,test_X ,k)\n",
        "    print(\"for k = \"+ str(k) + \" Accuracy is \",accuracy_score(test_Y, y_hat_test))\n",
        "\n"
      ],
      "execution_count": 456,
      "outputs": [
        {
          "output_type": "stream",
          "text": [
            "for k = 1 Accuracy is  0.7950819672131147\n",
            "for k = 2 Accuracy is  0.7950819672131147\n",
            "for k = 3 Accuracy is  0.8524590163934426\n",
            "for k = 4 Accuracy is  0.8770491803278688\n",
            "for k = 5 Accuracy is  0.8770491803278688\n",
            "for k = 6 Accuracy is  0.8934426229508197\n",
            "for k = 7 Accuracy is  0.8852459016393442\n",
            "for k = 8 Accuracy is  0.9098360655737705\n",
            "for k = 9 Accuracy is  0.9016393442622951\n",
            "for k = 10 Accuracy is  0.9016393442622951\n",
            "for k = 11 Accuracy is  0.9016393442622951\n",
            "for k = 12 Accuracy is  0.9016393442622951\n",
            "for k = 13 Accuracy is  0.9016393442622951\n",
            "for k = 14 Accuracy is  0.9016393442622951\n",
            "for k = 15 Accuracy is  0.9016393442622951\n",
            "for k = 16 Accuracy is  0.9098360655737705\n",
            "for k = 17 Accuracy is  0.9180327868852459\n",
            "for k = 18 Accuracy is  0.9098360655737705\n",
            "for k = 19 Accuracy is  0.9180327868852459\n"
          ],
          "name": "stdout"
        }
      ]
    },
    {
      "cell_type": "code",
      "metadata": {
        "id": "lSvin9s1mU31",
        "colab": {
          "base_uri": "https://localhost:8080/"
        },
        "outputId": "0e4da28c-dd16-4a9c-fc46-c8a3c2354d70"
      },
      "source": [
        "from sklearn.metrics import confusion_matrix\n",
        "from sklearn.metrics import classification_report\n",
        "\n",
        "# actual values\n",
        "actual = test_Y\n",
        "# predicted values\n",
        "predicted = y_pred\n",
        "\n",
        "# confusion matrix\n",
        "matrix = confusion_matrix(actual,predicted, labels=[1,2,3])\n",
        "print('Confusion matrix : \\n',matrix)\n",
        "\n",
        "# outcome values order in sklearn\n",
        "# tp, fn, fp, tn = confusion_matrix(actual,predicted,labels=[1,2,3])\n",
        "# print('Outcome values : \\n', tp, fn, fp, tn)\n",
        "\n",
        "# classification report for precision, recall f1-score and accuracy\n",
        "matrix = classification_report(actual,predicted,labels=[1,2,3])\n",
        "print('Classification report : \\n',matrix)"
      ],
      "execution_count": 457,
      "outputs": [
        {
          "output_type": "stream",
          "text": [
            "Confusion matrix : \n",
            " [[59  0  2]\n",
            " [ 3  0  4]\n",
            " [ 4  1 49]]\n",
            "Classification report : \n",
            "               precision    recall  f1-score   support\n",
            "\n",
            "           1       0.89      0.97      0.93        61\n",
            "           2       0.00      0.00      0.00         7\n",
            "           3       0.89      0.91      0.90        54\n",
            "\n",
            "    accuracy                           0.89       122\n",
            "   macro avg       0.59      0.62      0.61       122\n",
            "weighted avg       0.84      0.89      0.86       122\n",
            "\n"
          ],
          "name": "stdout"
        }
      ]
    },
    {
      "cell_type": "code",
      "metadata": {
        "id": "Nm2BUrXGetkI",
        "colab": {
          "base_uri": "https://localhost:8080/"
        },
        "outputId": "3cc47c5e-8a24-4362-dc73-8563eced9757"
      },
      "source": [
        "currentDataClass = test_Y     \n",
        "predictedClass = y_pred\n",
        "\n",
        "# classes = 3 #int(max(currentDataClass) - min(currentDataClass)) + 1 #find number of classes\n",
        "\n",
        "# counts = [[sum([(currentDataClass[i] == true_class) and (predictedClass[i] == pred_class) \n",
        "# for i in range(len(currentDataClass))])\n",
        "#            for pred_class in range(1, classes + 1)] \n",
        "#            for true_class in range(1, classes + 1)]\n",
        "\n",
        "# counts\n",
        "classes = set(currentDataClass)\n",
        "print(classes)\n",
        "number_of_classes = len(classes)\n",
        "\n",
        "conf_matrix = pd.DataFrame(\n",
        "    np.zeros((number_of_classes, number_of_classes),dtype=int),\n",
        "    index=classes,\n",
        "    columns=classes)\n",
        "\n",
        "for i, j in zip(currentDataClass,predictedClass):\n",
        "        conf_matrix.loc[i, j] += 1\n",
        "\n",
        "print(conf_matrix.values)\n",
        "counts = conf_matrix.values\n",
        "counts"
      ],
      "execution_count": 458,
      "outputs": [
        {
          "output_type": "stream",
          "text": [
            "{1, 2, 3}\n",
            "[[59  0  2]\n",
            " [ 3  0  4]\n",
            " [ 4  1 49]]\n"
          ],
          "name": "stdout"
        },
        {
          "output_type": "execute_result",
          "data": {
            "text/plain": [
              "array([[59,  0,  2],\n",
              "       [ 3,  0,  4],\n",
              "       [ 4,  1, 49]])"
            ]
          },
          "metadata": {
            "tags": []
          },
          "execution_count": 458
        }
      ]
    },
    {
      "cell_type": "code",
      "metadata": {
        "id": "Ge-DDac3zOdZ",
        "colab": {
          "base_uri": "https://localhost:8080/"
        },
        "outputId": "788b9470-2055-410a-d0bd-4d0e2fd0ed5e"
      },
      "source": [
        "print(\"\\tClass1\\tClass2\\tClass3\")\n",
        "print(\"FN Values: \",end=\" \")\n",
        "fn1 = counts[1][0] + counts[2][0] \n",
        "fn2 = counts[0][0] + counts[2][0]\n",
        "fn3 = counts[1][0] + counts[0][0]\n",
        "print(fn1,'\\t',fn2,'\\t',fn3)\n",
        "print(\"TP Values: \",end=\" \")\n",
        "tp1 = counts[0][0]\n",
        "tp2 = counts[1][1]\n",
        "tp3 = counts[2][2]\n",
        "print(tp1,'\\t',tp2,'\\t',tp3)\n",
        "print(\"FP Values: \",end=\" \")\n",
        "fp1 = counts[0][1] + counts[0][2] \n",
        "fp2 = counts[0][0] + counts[0][2]\n",
        "fp3 = counts[0][1] + counts[0][0]\n",
        "print(fp1,'\\t',fp2,'\\t',fp3)\n",
        "print(\"TN Values: \",end=\" \")\n",
        "tn1 = counts[1][1] + counts[1][2] + counts[2][1] + counts[2][2] \n",
        "tn2 = counts[0][0] + counts[0][2] + counts[2][0] + counts[2][2]\n",
        "tn3 = counts[0][0] + counts[0][1] + counts[1][1] + counts[1][0]\n",
        "print(tn1,'\\t',tn2,'\\t',tn3)\n",
        "\n",
        "\n",
        "\n"
      ],
      "execution_count": 459,
      "outputs": [
        {
          "output_type": "stream",
          "text": [
            "\tClass1\tClass2\tClass3\n",
            "FN Values:  7 \t 63 \t 62\n",
            "TP Values:  59 \t 0 \t 49\n",
            "FP Values:  2 \t 61 \t 59\n",
            "TN Values:  54 \t 114 \t 62\n"
          ],
          "name": "stdout"
        }
      ]
    },
    {
      "cell_type": "code",
      "metadata": {
        "id": "8_fn4E6a306c",
        "colab": {
          "base_uri": "https://localhost:8080/"
        },
        "outputId": "93e987ae-4a54-433f-bfd9-18e1331ede18"
      },
      "source": [
        "# for class 1\n",
        "#accuracy for class 1\n",
        "\n",
        "accuracy1 = (tp1+tn1)/(tp1+tn1+fp1+fn1)\n",
        "precision1 = tp1/(tp1+fp1)\n",
        "recall1 = tp1/(tp1+fn1)\n",
        "f1_score_1 = (2.0*tp1)/(2.0*tp1+fp1+fn1)\n",
        "\n",
        "print(\"accuracy\\t\\tprecision\\t\\trecall\\t\\tf1-score\")\n",
        "print(accuracy1,'\\t',precision1,'\\t',recall1,'\\t',f1_score_1)"
      ],
      "execution_count": 460,
      "outputs": [
        {
          "output_type": "stream",
          "text": [
            "accuracy\t\tprecision\t\trecall\t\tf1-score\n",
            "0.9262295081967213 \t 0.9672131147540983 \t 0.8939393939393939 \t 0.9291338582677166\n"
          ],
          "name": "stdout"
        }
      ]
    },
    {
      "cell_type": "code",
      "metadata": {
        "id": "klRwbt2M6h7q",
        "colab": {
          "base_uri": "https://localhost:8080/"
        },
        "outputId": "bf481eb7-0214-4583-977b-aedfe2295b70"
      },
      "source": [
        "# for class 2\n",
        "#accuracy for class 2\n",
        "\n",
        "accuracy2 = (tp2+tn2)/(tp2+tn2+fp2+fn2)\n",
        "precision2 = tp2/(tp2+fp2)\n",
        "recall2 = tp2/(tp2+fn2)\n",
        "f1_score_2 = (2.0*tp2)/((2.0*tp2)+fp2+fn2)\n",
        "\n",
        "print(\"accuracy\\t\\tprecision\\trecall\\tf1-score\")\n",
        "print(accuracy2,'\\t',precision2,'\\t\\t',recall2,'\\t',f1_score_2)"
      ],
      "execution_count": 461,
      "outputs": [
        {
          "output_type": "stream",
          "text": [
            "accuracy\t\tprecision\trecall\tf1-score\n",
            "0.4789915966386555 \t 0.0 \t\t 0.0 \t 0.0\n"
          ],
          "name": "stdout"
        }
      ]
    },
    {
      "cell_type": "code",
      "metadata": {
        "id": "8U2PRdpE7z96",
        "colab": {
          "base_uri": "https://localhost:8080/"
        },
        "outputId": "061d1cf5-286a-4ee2-b9b0-7a8fe613be1a"
      },
      "source": [
        "# for class 3\n",
        "#accuracy for class 3\n",
        "\n",
        "accuracy3 = (tp3+tn3)/(tp3+tn3+fp3+fn3)\n",
        "precision3 = tp3/(tp3+fp3)\n",
        "recall3 = tp3/(tp3+fn3)\n",
        "f1_score_3 = (2.0*tp3)/((2.0*tp3)+fp3+fn3)\n",
        "\n",
        "print(\"accuracy\\t\\tprecision\\t\\t\\trecall\\t\\tf1-score\")\n",
        "print(accuracy3,'\\t',precision3,'\\t\\t',recall3,'\\t',f1_score_3)"
      ],
      "execution_count": 497,
      "outputs": [
        {
          "output_type": "stream",
          "text": [
            "accuracy\t\tprecision\t\t\trecall\t\tf1-score\n",
            "0.47844827586206895 \t 0.4537037037037037 \t\t 0.44144144144144143 \t 0.4474885844748858\n"
          ],
          "name": "stdout"
        }
      ]
    },
    {
      "cell_type": "markdown",
      "metadata": {
        "id": "gQodCF3hOEya"
      },
      "source": [
        "# K Means\n"
      ]
    },
    {
      "cell_type": "code",
      "metadata": {
        "id": "09oJ0SD_6v4E"
      },
      "source": [
        "# Assign every training example x^(i) to its closest centroid, given the current centroid positions\n",
        "def find_closest_centroids(X, centroids):\n",
        "    '''returns the array of assigned clusters to each example ''' \n",
        "    m = X.shape[0] # no of datappints\n",
        "    k = centroids.shape[0]  #division size\n",
        "    idx = np.zeros(m) # array to assign the centriod\n",
        "    for i in range(m):\n",
        "        min_dist = 1000000\n",
        "        for j in range(k):\n",
        "            dist = np.sum((X[i,:] - centroids[j,:]) ** 2)  # for 1 data point we calculte 3 distaces with centriod. \n",
        "            # dist is an integer, calculated the one datapoint distance with each centriod one after one                                                           \n",
        "            if dist < min_dist:\n",
        "                min_dist = dist\n",
        "                idx[i] = j\n",
        "    \n",
        "    return idx"
      ],
      "execution_count": 463,
      "outputs": []
    },
    {
      "cell_type": "code",
      "metadata": {
        "id": "Xe2Jn-B_PrEg"
      },
      "source": [
        "X=np.asarray(data[['Left-Weight','Left-Distance','Right_Weight','Right-Distance']].dropna())\n",
        "Y=np.asarray(data['Class'].dropna())"
      ],
      "execution_count": 464,
      "outputs": []
    },
    {
      "cell_type": "code",
      "metadata": {
        "id": "_oWgkD_XTBry"
      },
      "source": [
        "#print(X)"
      ],
      "execution_count": 465,
      "outputs": []
    },
    {
      "cell_type": "code",
      "metadata": {
        "id": "FKFck4DwTFYK"
      },
      "source": [
        "#print(Y)"
      ],
      "execution_count": 466,
      "outputs": []
    },
    {
      "cell_type": "code",
      "metadata": {
        "id": "S1PDzC7CPWZV",
        "colab": {
          "base_uri": "https://localhost:8080/",
          "height": 881
        },
        "outputId": "3f67b5af-532e-44b0-ce08-e9fe36c7a0cc"
      },
      "source": [
        "cluster1 = X[0:200,:]\n",
        "cluster2 = X[200:400,:]\n",
        "cluster3 = X[400:624,:]\n",
        "\n",
        "fig, ax = plt.subplots(figsize=(15,15))\n",
        "ax.scatter(cluster1[:,0], cluster1[:,1], s=30, color='r', label='Cluster 1')\n",
        "ax.scatter(cluster2[:,0], cluster2[:,1], s=30, color='g', label='Cluster 2')\n",
        "ax.scatter(cluster3[:,0], cluster3[:,1], s=30, color='b', label='Cluster 3')\n",
        "ax.legend()"
      ],
      "execution_count": 467,
      "outputs": [
        {
          "output_type": "execute_result",
          "data": {
            "text/plain": [
              "<matplotlib.legend.Legend at 0x7f2b74a12a10>"
            ]
          },
          "metadata": {
            "tags": []
          },
          "execution_count": 467
        },
        {
          "output_type": "display_data",
          "data": {
            "image/png": "[encoded data removed]",
            "text/plain": [
              "<Figure size 1080x1080 with 1 Axes>"
            ]
          },
          "metadata": {
            "tags": [],
            "needs_background": "light"
          }
        }
      ]
    },
    {
      "cell_type": "code",
      "metadata": {
        "id": "SA6_vNQXPM-C",
        "colab": {
          "base_uri": "https://localhost:8080/",
          "height": 501
        },
        "outputId": "bc30ef0d-51d5-4632-f2a2-ebade19dc83e"
      },
      "source": [
        "np.random.shuffle(X)\n",
        "cluster1 = X[0:200,:]\n",
        "cluster2 = X[200:400,:]\n",
        "cluster3 = X[400:624,:]\n",
        "\n",
        "\n",
        "fig, ax = plt.subplots(figsize=(12,8))\n",
        "ax.scatter(cluster1[:,0], cluster1[:,3], s=100, color='r', label='Cluster 1')\n",
        "ax.scatter(cluster2[:,0], cluster2[:,1], s=50, color='y', label='Cluster 2')\n",
        "ax.scatter(cluster3[:,0], cluster3[:,1], s=5, color='b', label='Cluster 3')\n",
        "ax.legend()\n"
      ],
      "execution_count": 468,
      "outputs": [
        {
          "output_type": "execute_result",
          "data": {
            "text/plain": [
              "<matplotlib.legend.Legend at 0x7f2b74a2bad0>"
            ]
          },
          "metadata": {
            "tags": []
          },
          "execution_count": 468
        },
        {
          "output_type": "display_data",
          "data": {
            "image/png": "[encoded data removed]",
            "text/plain": [
              "<Figure size 864x576 with 1 Axes>"
            ]
          },
          "metadata": {
            "tags": [],
            "needs_background": "light"
          }
        }
      ]
    },
    {
      "cell_type": "code",
      "metadata": {
        "colab": {
          "base_uri": "https://localhost:8080/",
          "height": 501
        },
        "id": "PMeb8Xd8CZiy",
        "outputId": "52abaff5-69ac-410f-90e3-a7615d3f6372"
      },
      "source": [
        "# the above plot shows that points are on each other\n",
        "fig, ax = plt.subplots(figsize=(12,8))\n",
        "ax.scatter(cluster2[:,0], cluster2[:,1], s=30, color='g', label='Cluster 2')\n",
        "ax.legend()"
      ],
      "execution_count": 469,
      "outputs": [
        {
          "output_type": "execute_result",
          "data": {
            "text/plain": [
              "<matplotlib.legend.Legend at 0x7f2b748ab4d0>"
            ]
          },
          "metadata": {
            "tags": []
          },
          "execution_count": 469
        },
        {
          "output_type": "display_data",
          "data": {
            "image/png": "[encoded data removed]",
            "text/plain": [
              "<Figure size 864x576 with 1 Axes>"
            ]
          },
          "metadata": {
            "tags": [],
            "needs_background": "light"
          }
        }
      ]
    },
    {
      "cell_type": "code",
      "metadata": {
        "colab": {
          "base_uri": "https://localhost:8080/",
          "height": 501
        },
        "id": "tt2BY-swCsMB",
        "outputId": "dcb006bc-2d38-427a-d5c1-dd42a33e401e"
      },
      "source": [
        "fig, ax = plt.subplots(figsize=(12,8))\n",
        "ax.scatter(cluster3[:,0], cluster3[:,1], s=30, color='b', label='Cluster 3')\n",
        "ax.legend()"
      ],
      "execution_count": 470,
      "outputs": [
        {
          "output_type": "execute_result",
          "data": {
            "text/plain": [
              "<matplotlib.legend.Legend at 0x7f2b74887190>"
            ]
          },
          "metadata": {
            "tags": []
          },
          "execution_count": 470
        },
        {
          "output_type": "display_data",
          "data": {
            "image/png": "[encoded data removed]",
            "text/plain": [
              "<Figure size 864x576 with 1 Axes>"
            ]
          },
          "metadata": {
            "tags": [],
            "needs_background": "light"
          }
        }
      ]
    },
    {
      "cell_type": "code",
      "metadata": {
        "id": "Pr3hrjTLOf8G",
        "colab": {
          "base_uri": "https://localhost:8080/"
        },
        "outputId": "3a1135a6-8180-49a7-bfb7-13a24dc5b9fc"
      },
      "source": [
        "\n",
        "idx = find_closest_centroids(X, initial_centroids)\n",
        "print(idx[:3])"
      ],
      "execution_count": 471,
      "outputs": [
        {
          "output_type": "stream",
          "text": [
            "[1. 2. 0.]\n"
          ],
          "name": "stdout"
        }
      ]
    },
    {
      "cell_type": "code",
      "metadata": {
        "id": "qKALkoBURMTF"
      },
      "source": [
        "# Update Centroids\n",
        "def compute_centroids(X, idx, k):\n",
        "    m, n = X.shape\n",
        "    centroids = np.zeros((k, n))  #3*4\n",
        "    for i in range(k):\n",
        "        indices = np.where(idx == i)\n",
        "        centroids[i,:] = (np.sum(X[indices,:], axis=1) / len(indices[0]))\n",
        "    return centroids        "
      ],
      "execution_count": 472,
      "outputs": []
    },
    {
      "cell_type": "code",
      "metadata": {
        "id": "jubnzfd3RP-O",
        "colab": {
          "base_uri": "https://localhost:8080/"
        },
        "outputId": "3ca5836b-9cea-412c-d164-f6b11fd27ded"
      },
      "source": [
        "compute_centroids(X, idx, 3)"
      ],
      "execution_count": 473,
      "outputs": [
        {
          "output_type": "execute_result",
          "data": {
            "text/plain": [
              "array([[2.85990338, 2.44444444, 4.48792271, 2.85990338],\n",
              "       [2.44486692, 3.36882129, 2.29657795, 2.44486692],\n",
              "       [4.14935065, 3.12987013, 2.21428571, 4.14935065]])"
            ]
          },
          "metadata": {
            "tags": []
          },
          "execution_count": 473
        }
      ]
    },
    {
      "cell_type": "code",
      "metadata": {
        "id": "ymet4IJ3On1U"
      },
      "source": [
        "def run_k_means(X, initial_centroids, max_iters):\n",
        "    m, n = X.shape\n",
        "    k = initial_centroids.shape[0]\n",
        "    idx = np.zeros(m)\n",
        "    centroids = initial_centroids\n",
        "    \n",
        "    for i in range(max_iters):\n",
        "        # find closest centroid\n",
        "        idx = find_closest_centroids(X, centroids)\n",
        "        #update centroids\n",
        "        centroids = compute_centroids(X, idx, k)\n",
        "    \n",
        "    return idx, centroids\n",
        " "
      ],
      "execution_count": 474,
      "outputs": []
    },
    {
      "cell_type": "code",
      "metadata": {
        "id": "wfegXRdZO6XJ"
      },
      "source": [
        "idx, centroids = run_k_means(X, initial_centroids, 1000)\n"
      ],
      "execution_count": 475,
      "outputs": []
    },
    {
      "cell_type": "code",
      "metadata": {
        "id": "7XVT64fqBej4"
      },
      "source": [
        "# print(idx)\n",
        "# print(centroids)"
      ],
      "execution_count": null,
      "outputs": []
    },
    {
      "cell_type": "code",
      "metadata": {
        "colab": {
          "base_uri": "https://localhost:8080/",
          "height": 501
        },
        "id": "XelXo3z2O2pf",
        "outputId": "eb22af14-ad8e-4d5a-d36a-6c8208dfef6f"
      },
      "source": [
        "cluster1 = X[np.where(idx == 0)[0],:]\n",
        "cluster2 = X[np.where(idx == 1)[0],:]\n",
        "cluster3 = X[np.where(idx == 2)[0],:]\n",
        "\n",
        "fig, ax = plt.subplots(figsize=(12,8))\n",
        "ax.scatter(cluster1[:,0], cluster1[:,1], s=100, color='r', label='Cluster 1')\n",
        "ax.scatter(cluster2[:,0], cluster2[:,1], s=50, color='g', label='Cluster 2')\n",
        "ax.scatter(cluster3[:,0], cluster3[:,1], s=5, color='b', label='Cluster 3')\n",
        "ax.legend()"
      ],
      "execution_count": 477,
      "outputs": [
        {
          "output_type": "execute_result",
          "data": {
            "text/plain": [
              "<matplotlib.legend.Legend at 0x7f2b747b6050>"
            ]
          },
          "metadata": {
            "tags": []
          },
          "execution_count": 477
        },
        {
          "output_type": "display_data",
          "data": {
            "image/png": "[encoded data removed]",
            "text/plain": [
              "<Figure size 864x576 with 1 Axes>"
            ]
          },
          "metadata": {
            "tags": [],
            "needs_background": "light"
          }
        }
      ]
    },
    {
      "cell_type": "code",
      "metadata": {
        "id": "NCrcBBqVkmKN"
      },
      "source": [
        "def euclidean(p1,p2):\n",
        "    dist = np.sqrt(np.sum((p1-p2)**2))\n",
        "    return dist\n",
        "\n",
        "\n",
        "def DaviesBouldin(X, labels):\n",
        "    n_cluster = len(np.bincount(labels))\n",
        "    cluster_k = [X[labels == k] for k in range(n_cluster)]\n",
        "    centroids = [np.mean(k, axis = 0) for k in cluster_k]\n",
        "\n",
        "    # calculate cluster dispersion\n",
        "    S = [np.mean([euclidean(p, centroids[i]) for p in k]) for i, k in enumerate(cluster_k)]\n",
        "    Ri = []\n",
        "\n",
        "    for i in range(n_cluster):\n",
        "        Rij = []\n",
        "        # establish similarity between each cluster and all other clusters\n",
        "        for j in range(n_cluster):\n",
        "            if j != i:\n",
        "                r = (S[i] + S[j]) / euclidean(centroids[i], centroids[j])\n",
        "                Rij.append(r)\n",
        "         # select Ri value of most similar cluster\n",
        "        Ri.append(max(Rij)) \n",
        "\n",
        "    # get mean of all Ri values    \n",
        "    dbi = np.mean(Ri)\n",
        "\n",
        "    return dbi"
      ],
      "execution_count": 510,
      "outputs": []
    },
    {
      "cell_type": "code",
      "metadata": {
        "id": "ZZKbAZLEAvcE"
      },
      "source": [
        "labels = [1,2,3]\n",
        "index_db_val = DaviesBouldin(alldata,labels)\n",
        "print(\"Davies Bouldin index: \" + str(index_db_val))"
      ],
      "execution_count": null,
      "outputs": []
    }
  ]
}